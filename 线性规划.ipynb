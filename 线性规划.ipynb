{
 "cells": [
  {
   "cell_type": "code",
   "execution_count": 1,
   "metadata": {},
   "outputs": [],
   "source": [
    "import numpy as np\n",
    "import re\n",
    "import copy\n",
    "import sys\n",
    "from scipy import optimize\n",
    "M=-99999"
   ]
  },
  {
   "cell_type": "code",
   "execution_count": 2,
   "metadata": {},
   "outputs": [],
   "source": [
    "f=open(\"input.txt\", \"r\", encoding=\"utf-8\")\n",
    "str_f=f.read()\n",
    "f.close()"
   ]
  },
  {
   "cell_type": "code",
   "execution_count": 3,
   "metadata": {},
   "outputs": [
    {
     "data": {
      "text/plain": [
       "['min=-2*x1-5*x2', 'x1+2*x2<=-8', 'x1<=4', 'x2<=3', 'x1>=0', 'x2>=0']"
      ]
     },
     "execution_count": 3,
     "metadata": {},
     "output_type": "execute_result"
    }
   ],
   "source": [
    "list_origin=[]\n",
    "list_origin=str_f.split(\"\\n\")\n",
    "list_origin"
   ]
  },
  {
   "cell_type": "code",
   "execution_count": 4,
   "metadata": {},
   "outputs": [
    {
     "data": {
      "text/plain": [
       "2"
      ]
     },
     "execution_count": 4,
     "metadata": {},
     "output_type": "execute_result"
    }
   ],
   "source": [
    "def confirm():\n",
    "    xmax=1\n",
    "    for i in list_origin:\n",
    "        while(1):\n",
    "            if \"x\"+str(xmax) in i:\n",
    "                xmax+=1\n",
    "            else: break\n",
    "    return xmax-1\n",
    "xmax=xused=confirm()\n",
    "xused"
   ]
  },
  {
   "cell_type": "code",
   "execution_count": 5,
   "metadata": {},
   "outputs": [
    {
     "name": "stdout",
     "output_type": "stream",
     "text": [
      "[]\n",
      "[]\n",
      "[1, 2]\n"
     ]
    }
   ],
   "source": [
    "free=[]\n",
    "positive=[]\n",
    "negtive=[]\n",
    "for i in range(1,xused+1):\n",
    "    if \"x\"+str(i)+\">=0\" in list_origin:\n",
    "        positive.append(i)\n",
    "    elif \"x\"+str(i)+\"<=0\" in list_origin:\n",
    "        negtive.append(i)\n",
    "    else:\n",
    "        free.append(i)\n",
    "print(free)\n",
    "print(negtive)\n",
    "print(positive)"
   ]
  },
  {
   "cell_type": "code",
   "execution_count": 6,
   "metadata": {},
   "outputs": [
    {
     "data": {
      "text/plain": [
       "['min=-2*x1-5*x2', 'x1+2*x2<=-8', 'x1<=4', 'x2<=3']"
      ]
     },
     "execution_count": 6,
     "metadata": {},
     "output_type": "execute_result"
    }
   ],
   "source": [
    "for a in range(1,xused+1):\n",
    "    for i in list_origin:\n",
    "        if i == \"x\"+str(a)+\">=0\":\n",
    "            list_origin.remove(i)\n",
    "list_origin"
   ]
  },
  {
   "cell_type": "code",
   "execution_count": 7,
   "metadata": {},
   "outputs": [
    {
     "name": "stdout",
     "output_type": "stream",
     "text": [
      "['min=-2*x1-5*x2', 'x1+2*x2+x3=-8', 'x1+x4=4', 'x2+x5=3']\n",
      "[]\n",
      "[]\n",
      "artificial: []\n",
      "addxi: 5\n",
      "['min=-2*x1-5*x2', '1*x1+2*x2+1*x3=-8', '1*x1+1*x4=4', '1*x2+1*x5=3']\n"
     ]
    },
    {
     "data": {
      "text/plain": [
       "[[0, 2], [6], [], [], [], []]"
      ]
     },
     "execution_count": 7,
     "metadata": {},
     "output_type": "execute_result"
    }
   ],
   "source": [
    "GE_EQ=[]\n",
    "Base=[]\n",
    "NUM=[]\n",
    "addxi=xused\n",
    "l=1\n",
    "def Normalization(i):\n",
    "    global addxi,CE,EQ,NUM,l\n",
    "    if \"<=\" in i:\n",
    "        addxi+=1\n",
    "        Base.append(addxi)\n",
    "        return i.replace(\"<=\",\"+x\"+str(addxi)+\"=\")\n",
    "    elif \">=\" in i:\n",
    "        GE_EQ.append(list_origin.index(i))\n",
    "        NUM.append(l)\n",
    "        l+=1\n",
    "        addxi+=1\n",
    "        return i.replace(\">=\",\"-x\"+str(addxi)+\"=\")\n",
    "    elif \"=\" in i and 'max'not in i and 'min' not in i:\n",
    "        GE_EQ.append(list_origin.index(i))\n",
    "        NUM.append(l)\n",
    "        l+=1\n",
    "    return i\n",
    "list_normal=list(map(Normalization,list_origin))\n",
    "del l\n",
    "print(list_normal)\n",
    "print(NUM)\n",
    "\n",
    "print(GE_EQ)\n",
    "l=0\n",
    "for i in GE_EQ:\n",
    "    list_normal[i]=list_normal[i].replace(\"=\",\"+x\"+str(addxi+NUM[l])+\"=\") \n",
    "    l+=1\n",
    "del l\n",
    "artificial=[i+addxi for i in NUM]\n",
    "for i in artificial:\n",
    "    Base.append(i)\n",
    "print(\"artificial:\",artificial)\n",
    "\n",
    "GE_ED=copy.deepcopy(NUM)\n",
    "del NUM\n",
    "\n",
    "k=0\n",
    "\n",
    "if GE_EQ==[]:\n",
    "    GE_EQ.append(0)\n",
    "\n",
    "print(\"addxi:\",addxi)\n",
    "for i in list_normal:\n",
    "    for j in range(1,addxi+1+max(GE_EQ)):\n",
    "        i=list_normal[k]\n",
    "        if (\"*x\"+str(j)) not in i:\n",
    "            list_normal[k]=i.replace(\"x\"+str(j),\"1*x\"+str(j))\n",
    "    k+=1\n",
    "\n",
    "print(list_normal)\n",
    "fn=[[]]\n",
    "p=0\n",
    "for i in list_normal:\n",
    "    num=0\n",
    "    flag1=0\n",
    "    flag2=0\n",
    "    for j in i:\n",
    "        if j in [\"0\",\"1\",\"2\",\"3\",\"4\",\"5\",\"6\",\"7\",\"8\",\"9\"]:\n",
    "            num=num+1\n",
    "        if j is \"-\":\n",
    "            if flag1==0:\n",
    "                fn.append([])\n",
    "                flag2=1\n",
    "                flag=1\n",
    "            fn[p].append(num)\n",
    "    if flag2==0:\n",
    "        fn.append([])\n",
    "    p=p+1\n",
    "fn"
   ]
  },
  {
   "cell_type": "code",
   "execution_count": 8,
   "metadata": {},
   "outputs": [
    {
     "name": "stdout",
     "output_type": "stream",
     "text": [
      "max_GE: 0 5\n",
      "[[0, 0, 0, 0, 0], [0, 0, 0, 0, 0], [0, 0, 0, 0, 0]]\n",
      "[0, 0, 0]\n",
      "[0, 0, 0, 0]\n",
      "TEMP: [[2, 1, 5, 2], [1, 1, 2, 2, 1, 3, 8], [1, 1, 1, 4, 4], [1, 2, 1, 5, 3]]\n",
      "A: [[1, 2, 1, 0, 0], [1, 0, 0, 1, 0], [0, 1, 0, 0, 1]]\n",
      "B: [-8, 4, 3]\n",
      "CNEW: [2, 5, 0, 0, 0]\n"
     ]
    }
   ],
   "source": [
    "TEMP=[]\n",
    "A=[]\n",
    "max_GE=max(GE_EQ)\n",
    "print(\"max_GE:\",max_GE,addxi)\n",
    "for i in range(len(list_normal)-1):\n",
    "    A.append([])\n",
    "    for j in range(addxi+max_GE):\n",
    "        A[i].append(0)\n",
    "print(A)\n",
    "\n",
    "B=[]\n",
    "for i in range(len(list_normal)-1):\n",
    "    B.append(0)\n",
    "print(B)\n",
    "\n",
    "C=[0 for i in range(0,len(list_normal))]\n",
    "print(C)\n",
    "\n",
    "for i in list_normal:\n",
    "    temp=re.findall(r\"\\d+\\.?\\d*\",i)\n",
    "    TEMP.append(temp)\n",
    "TEMP=list(map(lambda x:list(map(int, x)), TEMP))\n",
    "print(\"TEMP:\",TEMP)\n",
    "\n",
    "for i in range(0,len(TEMP)):\n",
    "    if fn != [[]]:\n",
    "        for j in range(0,len(fn[i])):\n",
    "            TEMP[i][fn[i][j]]=TEMP[i][fn[i][j]]*-1\n",
    "    \n",
    "for i in range(1,len(TEMP)):\n",
    "    for j in range(0,len(TEMP[i])-1,2):\n",
    "        A[i-1][TEMP[i][j+1]-1]=TEMP[i][j]\n",
    "print(\"A:\",A)\n",
    "\n",
    "for i in range(1,len(list_normal)):\n",
    "    B[i-1]=TEMP[i][-1]\n",
    "print(\"B:\",B)\n",
    "\n",
    "C=TEMP[0][::2]\n",
    "C += [0 for i in range(len(C),addxi)]\n",
    "if \"min\" in list_origin[0]:\n",
    "    CNEW=[-l for l in C]\n",
    "else:\n",
    "    CNEW=copy.deepcopy(C)\n",
    "for i in range(max(GE_EQ)):\n",
    "    CNEW.append(M)\n",
    "print(\"CNEW:\",CNEW)"
   ]
  },
  {
   "cell_type": "code",
   "execution_count": 9,
   "metadata": {},
   "outputs": [
    {
     "name": "stdout",
     "output_type": "stream",
     "text": [
      "[[-8, 1, 2, 1, 0, 0], [4, 1, 0, 0, 1, 0], [3, 0, 1, 0, 0, 1]]\n",
      "[3, 4, 5]\n",
      "Status: No Feasible Solution!\n"
     ]
    },
    {
     "ename": "SystemExit",
     "evalue": "2",
     "output_type": "error",
     "traceback": [
      "An exception has occurred, use %tb to see the full traceback.\n",
      "\u001b[1;31mSystemExit\u001b[0m\u001b[1;31m:\u001b[0m 2\n"
     ]
    },
    {
     "name": "stderr",
     "output_type": "stream",
     "text": [
      "D:\\Python\\Anaconda3\\lib\\site-packages\\IPython\\core\\interactiveshell.py:3333: UserWarning: To exit: use 'exit', 'quit', or Ctrl-D.\n",
      "  warn(\"To exit: use 'exit', 'quit', or Ctrl-D.\", stacklevel=1)\n"
     ]
    }
   ],
   "source": [
    "X=copy.deepcopy(A)\n",
    "b=0\n",
    "for i in X[::]:\n",
    "    i.insert(0,B[b])\n",
    "    b+=1\n",
    "print(X)\n",
    "print(Base)\n",
    "for i in range(len(X)):\n",
    "    flag=0\n",
    "    for j in range(1,len(X[i])):\n",
    "        if (X[i][0]*X[i][j])>0 or X[i][0] == 0:\n",
    "            flag=1\n",
    "            break\n",
    "    if flag == 0:\n",
    "        print(\"Status: No Feasible Solution!\")\n",
    "        f=open(\"output.txt\", \"w\", encoding=\"utf-8\")\n",
    "        f.truncate()\n",
    "        f.write(\"Status: No Feasible Solution!\"+\"\\n\")\n",
    "        f.close()\n",
    "        sys.exit(2)"
   ]
  },
  {
   "cell_type": "code",
   "execution_count": null,
   "metadata": {
    "scrolled": false
   },
   "outputs": [],
   "source": [
    "check_number=[]\n",
    "while(1):\n",
    "    check_number.clear()\n",
    "    j=0\n",
    "    for i in X:\n",
    "        i.insert(0,CNEW[Base[j]-1])\n",
    "        j+=1\n",
    "    print(\"X:\",X)\n",
    "    for i in range(2,len(X[0])):\n",
    "        summ=0\n",
    "        for j in range(len(X)):\n",
    "            summ+=X[j][0]*X[j][i]\n",
    "        check_number.append(CNEW[i-2]-summ)\n",
    "    print(\"check_number:\",check_number)\n",
    "    if max(check_number)<=0:\n",
    "        break;\n",
    "    IN=check_number.index(max(check_number))+1\n",
    "    print(\"IN:x\"+str(IN))\n",
    "    theta=[X[i][1]/(X[i][IN+1]+0.000001) for i in range(len(X))]\n",
    "    print(\"theta:\",theta)\n",
    "    minnum=99999\n",
    "    for i in theta:\n",
    "        if i<minnum and i>0:\n",
    "            minnum=i\n",
    "    if minnum==99999:\n",
    "        print(\"Status: Unbounded Solution!\")\n",
    "        f=open(\"output.txt\", \"w\", encoding=\"utf-8\")\n",
    "        f.truncate()\n",
    "        f.write(\"Status: Unbounded Solution!\"+\"\\n\")\n",
    "        f.close()\n",
    "        sys.exit(1)\n",
    "    OUT=Base[theta.index(minnum)]\n",
    "    print(\"OUT:x\"+str(OUT))\n",
    "    position_line=theta.index(minnum)\n",
    "    Base[position_line]=IN\n",
    "    print(\"Base:\",Base)\n",
    "    X_np=np.array(X)\n",
    "    X_np = X_np.astype(np.float64)\n",
    "    X_np = np.delete(X_np,0, axis = 1)\n",
    "    X_np[position_line]=X_np[position_line]/X_np[position_line][IN]\n",
    "    for i in range(len(X_np)):\n",
    "        if i != position_line:\n",
    "            X_np[i]=X_np[i]+(-X_np[i][IN]/X_np[position_line][IN])*X_np[position_line]\n",
    "    X_np\n",
    "    X=X_np.tolist()\n",
    "    j=0"
   ]
  },
  {
   "cell_type": "code",
   "execution_count": null,
   "metadata": {},
   "outputs": [],
   "source": [
    "f=open(\"output.txt\", \"w\", encoding=\"utf-8\")\n",
    "f.truncate()\n",
    "if list(set(Base).intersection(set(artificial)))!=[]:\n",
    "    print(\"Status: No Feasible Solution!\")\n",
    "    f.write(\"Status: No Feasible Solution!\"+\"\\n\")\n",
    "    f.close()\n",
    "    sys.exit(2)\n",
    "elif set([i+1 for i in range(len(check_number)) if check_number[i] == 0]) > set(Base):\n",
    "    print(Base)\n",
    "    print(\"Status: Infinite Optimal Solutions!\")\n",
    "    f.write(\"Status: Infinite Optimal Solutions!\"+\"\\n\")\n",
    "else:\n",
    "    print(\"Status: Global Optimal Solution\")\n",
    "    f.write(\"Status: Global Optimal Solution\"+\"\\n\")\n",
    "    \n",
    "VALUE=[]\n",
    "for i in range(len(X)):\n",
    "    VALUE.append([X[i][1],Base[i]])\n",
    "print(\"value:\",VALUE)\n",
    "Displayed=[]\n",
    "\n",
    "for i in range(len(VALUE)):\n",
    "    if VALUE[i][1]<=xused:\n",
    "        #print(\"x\"+str(VALUE[i][1])+\"=\"+str(VALUE[i][0]))\n",
    "        print(\"x\"+str(VALUE[i][1])+\" = %.3f\"%VALUE[i][0])\n",
    "        f.write(\"x\"+str(VALUE[i][1])+\" = %.3f\"%VALUE[i][0]+\"\\n\")\n",
    "        Displayed.append(VALUE[i][1])\n",
    "\n",
    "for i in range(1,xused+1):\n",
    "    if i not in Displayed:\n",
    "        print(\"x\"+str(i)+\" = 0\")\n",
    "        f.write(\"x\"+str(i)+\" = 0\")\n",
    "    \n",
    "Objective_value=0\n",
    "for i in range(len(VALUE)):\n",
    "    Objective_value=Objective_value+VALUE[i][0]*CNEW[VALUE[i][1]-1]\n",
    "if \"min\" in list_origin[0]:\n",
    "    Objective_value=-1*Objective_value\n",
    "print(\"Objective value: \",Objective_value)\n",
    "f.write(\"Objective value: \"+str(Objective_value)+\"\\n\")\n",
    "f.close()"
   ]
  },
  {
   "cell_type": "code",
   "execution_count": null,
   "metadata": {},
   "outputs": [],
   "source": []
  }
 ],
 "metadata": {
  "kernelspec": {
   "display_name": "Python 3",
   "language": "python",
   "name": "python3"
  },
  "language_info": {
   "codemirror_mode": {
    "name": "ipython",
    "version": 3
   },
   "file_extension": ".py",
   "mimetype": "text/x-python",
   "name": "python",
   "nbconvert_exporter": "python",
   "pygments_lexer": "ipython3",
   "version": "3.7.3"
  }
 },
 "nbformat": 4,
 "nbformat_minor": 2
}
